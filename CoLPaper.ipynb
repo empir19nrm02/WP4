{
 "cells": [
  {
   "attachments": {},
   "cell_type": "markdown",
   "metadata": {},
   "source": [
    "# Influence of a deviating center of light on the uncertainty of photogoniometric measurements\n"
   ]
  },
  {
   "attachments": {},
   "cell_type": "markdown",
   "metadata": {
    "editable": true,
    "slideshow": {
     "slide_type": ""
    },
    "tags": []
   },
   "source": [
    "## Introduction to the Center of Light\n",
    "The Center of Light is a concept that results from the way Luminous Intensity is defined. \n",
    "The quantity of luminous intensity allows to express the emitted light with a directional dependency- integrating over any spacial distribution of the light source. This is a desired simplification of reality. The Luminous Intensity itself is a model with the assumption, that the luminous object is a point source. The Center of Light is the link between a real luminous object and this model: It is the point that the object is reduced to. The Center of Light is therefore a property of the luminous object, that has to be taken into account when measuring luminous intensity.\n",
    "\n",
    "The standard setup for measuring luminous intensity is a farfield goniometer. It uses a detector revolving around the object or vice versa at a constant distance. A luminous intensity distribution (LID) is constructed from multiple measurements performed for different directions relative to the center of the machine. For every measured direction it samples the illumincance caused by the source at this distance and derives from it the luminous intensity. This measurement setup assumes point source in the center of the machine.\n",
    "The Model is implicitly used, but the actual object position is up to the user. The Center of Light of the luminous object is generally unknown, this opens up the possibility to introduce an error from the placement of the object. \n",
    "\n",
    "There is an inherent error resulting from the size of the object. This has been explored under the topic of the limiting photometric distance. (link) This Error has the same underlying root as the error from translated Center of Light: Light coming from places other than the assumed point location. This results in deviating measurement distances and angles for different measurement directions. The unknown luminance characteristic of the object leads to a uncertainty contribution that cannot be prevented. Instead the measurement distance is increased to reduce uncertainty to a acceptable margin. \n",
    "There are good tools and rules of thumb in place to estimate this uncertainty. (link)\n",
    "In contrast, the Center of Light is not taken into account at all.\n",
    "Therefore the aim is to:\n",
    "* Sensitivise for the problems arising from CoL\n",
    "* Improve intuition about positioning.\n",
    "* Most important: feature this factor in the uncertainty analysis.\n",
    "* Missing Link"
   ]
  },
  {
   "cell_type": "markdown",
   "metadata": {},
   "source": [
    "## Impact for LID measurement\n",
    "-> What impact does a deviation in rotation / translation have on the LID?\n",
    "\n",
    "* every direction has to be examined separately.\n",
    "* deformation body\n",
    "\n",
    "\n",
    "The pose of the object in the coordinate system of the goniometer consists of two components: rotation and translation. The operator places and orients the object in the coordinate system of the goniometer. The rotation of the object is normally dictated by the measurement procedure. The object may be oriented with its optical axis aligned to a certain direction of the goniometer coordinates. The effect of a rotation has already been investigated. (Link)\n",
    "Rotating the pose of the object in the goniometer results in a rotated LID. This can be corrected after the measurement. The LID can for example be aligned to certain features. Another work examined the possiblity to compare two LIDs with different rotations, which can be acomplished by aligning the two LIDs via correlation.\n",
    "\n",
    "The effects of a translated source are more involved. A translation brings about a deviation of the measured luminous intensity that is different for every direction. Since every \n"
   ]
  },
  {
   "cell_type": "markdown",
   "metadata": {},
   "source": [
    "## Definition of the \n",
    "* To define the Center of Light of an Object  we have to look at its spacially distributed emission.\n",
    "* Use the model of light rays:\n",
    "    * Light consists of rays, originating from different points of the object.\n",
    "    * Using the point-source model forces the origin of rays to a single point, resulting in the error.\n",
    "    * Point that is the best fitting origin for the rays of the actual object.\n",
    "    * solvable with a near-field photogoniometer\n",
    "* Modeling light emission with rays.\n",
    "* Point with closest (quadratic) distance to all rays. point, where rays (approximately) coincide.\n",
    "* This way the Center of Light can be described as error-minimization.\n",
    "* LC calculation is already an analysis feature (link?)\n",
    "\n",
    "* For practical applications: Center of Light unknown. Using a near-field goniometer for every measurement task is not a solution. \n",
    "* So: Center of Light has to be estimated.\n",
    "    * based on expert knowledge\n",
    "    * examining the object\n",
    "\n",
    " The aim is to enable some intuition about where the center of light of an object can be expected and consequently how it should be positioned.\n",
    "\n",
    "- For light sources without optics, the light centre can be easily estimated as the geometric center of the light emitting region. Optics can complicate the matter:\n",
    "- focusing optics move the light center away from the actual light source. It can move well outside the physical constraints of the object.\n",
    "- more complex optics can introduce a directionality to the light centre: The light centre shifts depending on the viewing direction."
   ]
  },
  {
   "attachments": {},
   "cell_type": "markdown",
   "metadata": {},
   "source": [
    "## Modeling the error from LC\n",
    "Analytical Model of goniometer with translated point source.  The LID is generally calculated from the illuminance distribution in a certain distance from the photometric Center: A point light source with the distribution$I_s(\\theta,\\phi)$ placed in the center has a illuminance distribution according to the inverse-square-law:\n",
    "$$E(\\theta,\\phi) = {I_s(\\theta,\\phi) \\over {r_c}^2} \\cdot cos(\\alpha_d)$$\n",
    "\n",
    "With $r_c$ being the measuring distance to the center and $\\alpha_d$ being the incidence angle of the light striking the detector. Both the source and the detector are modelled as points. This implies, that the distance between the source and detector is assumed to be sufficiently large so that the error from both point-assumptions is negligible. Since the distance between source and detector is known and the detector is oriented perpendicular to the source, the luminous intensity distribution can be calculated:\n",
    "$$I_m(\\theta,\\phi) = {E(\\theta,\\phi) \\cdot r_c^2} = I_s$$\n",
    "\n",
    "In this case the measurement $I_m$ is consistent with the true LID $I_s$. If we now introduce a translation to the LC, the measured LI deviates from the LI of the source.\n",
    "- introduce coord system here, picture with all angles etc.\n",
    "- notation: every angles measured are marked according to the origin to which they are measured. $\\theta_c$ and $\\phi_c$ describe a direction originating from the photometric center and therefore correspond with the angles of the C-plane coordinate system. Similarly $\\theta_s$ and $\\phi_s$ describe angles relating to the light source.\n",
    "- Aim: calculate the error between the measured luminous intensity $I_m(\\theta_c, \\phi_c)$  and the corresponding luminous intensity of the source $I_s(\\theta_c, \\phi_c)$ resulting from a certain translation. The relation between $I_s$ and $I_m$ is:\n",
    "\n",
    "$$I_m(\\theta_c,\\phi_c,\\mathbf{s}) = \\underbrace{I_s(\\theta_s,\\phi_s)}_\\text{direction} \\cdot \\underbrace{r_c^2 \\over r_s^2}_\\text{distance} \\cdot \\underbrace{cos(\\alpha_d)}_\\text{incidence}$$\n",
    "\n",
    "The influence of LC translation can be separated in three different components. With the goniometer moved to a certain direction measured with $\\theta_c,\\phi_c$ the LID of the object is actually sampled at diverging angles: $\\theta_s, \\phi_s$. This component is called the **Direction Error**. Additionally the distance between source and detector is now different for every direction introducing a **Distance Error**. Lastly the incidence angle of the light striking the detector changes, resulting in the **Angle of Incidence Error**.\n",
    "These three components will now be derived and explained in more detail.\n",
    "\n",
    "1. **The Distance Error**\n",
    "Because luminous intensity is not measured directly but instead inferred from illuminance, it requires the knowledge of the distance between source and detector. With the source offset from the photometric center, this distance $r_s$ is different for every detector position. But when converting to luminous intensity the constant distance to the photometric center $r_c$ is used isntead, introducing an error. To describe this error both source and detector are expressed as points in the coordinate system of the goniometer.\n",
    "Position of the source: $\\mathbf{s} = (s_x,s_y,s_z)$\n",
    "Position of the detector for a particular measurement direction: $\\mathbf{d(\\theta_c,\\phi_c)} = (d_x,d_y,d_z)$\n",
    "The cartesian coordinates of the detector position are converted from the given C-plane (or polar)-coordinates as follows:\n",
    "$$d_x(\\theta_c,\\phi_c) = r_c \\cdot sin(\\theta_c) \\cdot cos(\\phi_c)$$\n",
    "$$d_y(\\theta_c,\\phi_c) = r_c \\cdot sin(\\theta_c) \\cdot sin(\\phi_c)$$\n",
    "$$d_z(\\theta_c,\\phi_c) = r_c \\cdot cos(\\theta_c)$$\n",
    "The distance between source and detector is then $r_s = \\vert\\vert \\mathbf{\\overrightarrow{sd}} \\vert\\vert = \\sqrt{\\dots}$ Applying the inverse-square-law as before yields:\n",
    "\n",
    "$$I_1 = {{I_s \\over {r_s}^2} \\cdot r_c^2}$$\n",
    "\n",
    "\n",
    "2. **The Direction Error**\n",
    "The angles $\\theta_s, \\phi_s$ describe the direction at which the detector is pointed at the source. To calculate these angles the detector positions realtive to the source position are required. These are the vectors $\\mathbf{\\overrightarrow{sd}}$ treated as points $\\mathbf{sd} = (sd_x, sd_y, sd_z)$. This basically corresponds to a coordinate transform from the photometric center to the position of the source. These cartesian coordinates are then converted back into C-plane (or polar)-coordinates.\n",
    "\n",
    "$$\\theta_s(\\theta_c,\\phi_c,\\mathbf{s}) = cos^{-1}({sd_z \\over r_s})$$\n",
    "$$\\phi_s(\\theta_c,\\phi_c,\\mathbf{s}) = tan^{-1}({sd_y \\over sd_x})$$\n",
    "\n",
    "Unlike the other two error components the direction error is not just defined by the geometry of the measurement but instead introduces a dependency on the LID of the source that is measured. In the simplest case, where the LID is isotropic, this error is nonexistent since the luminous intensity $I_s(\\theta_s,\\phi_s)$ is the same as $I_s(\\theta_c,\\phi_c)$. The extent of this error is defined by the difference in luminous intensity between the assumed and actual measurement direction. It therefore scales with the gradient of the LID of the object and will be larger for directions with a high gradient in luminous Intensity.\n",
    "\n",
    "3. **The Angle of Incidence Error**\n",
    "Lastly there is an error because a translation of the source changes the incidence angle. It is the angle $\\alpha_d$  between the vectors $\\mathbf{\\overrightarrow{cd}}$ from the photometric center to the detector and $\\mathbf{\\overrightarrow{sd}}$. It's defined as: \n",
    "\n",
    "$$cos(\\alpha)={\\langle \\mathbf{\\overrightarrow{cd}},\\mathbf{\\overrightarrow{sd}} \\rangle \\over \\vert\\vert \\mathbf{\\overrightarrow{cd}} \\vert\\vert \\cdot \\vert\\vert \\mathbf{\\overrightarrow{sd}} \\vert\\vert}$$\n",
    "\n",
    " Since all parts of the error are invariant to scaling, this model can also be used with relative units. When applicable for the following investigations all distances are expressed relative to the measurement distance $r_c$. This allows for generalized insights, that are valid for all goniometer setups.\n"
   ]
  },
  {
   "attachments": {},
   "cell_type": "markdown",
   "metadata": {},
   "source": [
    "We define the model described above as a function. "
   ]
  },
  {
   "cell_type": "code",
   "execution_count": null,
   "metadata": {},
   "outputs": [],
   "source": [
    "def goniometer_model(x_s, y_s, z_s, LID, theta_c, phi_c):\n",
    "    import numpy as np\n",
    "    from Helperfunctions import polar2cart, cart2polar\n",
    "    \"\"\"Calculate a goniometer measurement for a source with a certain LID at a certain position\n",
    "    Args:\n",
    "        x_s (float):      x-Coordinate of the source as relative to the measurement distance\n",
    "        y_s (float):      y-Coordinate of the source as relative to the measurement distance\n",
    "        z_s (float):      z-Coordinate of the source as relative to the measurement distance\n",
    "        LID (function):   analytic light intensity distribution: LID(theta, phi) -> I (angles in radians)\n",
    "        theta(array):      theta angles at which the LID should be probed (radians)\n",
    "        phi(array):        phi angles at which the LID should be probed (radians)\n",
    "    \"\"\"\n",
    "    source_pos = np.array([x_s,y_s,z_s]).reshape(3, 1, 1)\n",
    "    \n",
    "    # d_c: Positions of the detector in cartesian coords relative to the center\n",
    "    detector_pos_c = polar2cart(theta_c,phi_c,1)\n",
    "    # d_s: Positions of the detector in cartesian coords relative to the source\n",
    "    detector_pos_s = detector_pos_c - source_pos\n",
    "\n",
    "    # convert Detector positions back to polar coordinates to get the angles theta_s, phi_s and the actual measurement distance r_s\n",
    "    theta_s, phi_s, r_s = cart2polar(*detector_pos_s)\n",
    "\n",
    "    # sample LID of the source at theta_s and phi_s\n",
    "    I_s = LID(theta_s,phi_s)\n",
    "\n",
    "    # calculate the distance factor\n",
    "    distance_factor = 1 / np.square(r_s)\n",
    "\n",
    "    # calculate the incidence angle factor\n",
    "    dot = np.sum(np.multiply(detector_pos_s,detector_pos_c),axis=0) # dot product of cd, sd\n",
    "    cos_a = dot / r_s\n",
    "    \n",
    "    I_m = I_s * distance_factor * cos_a\n",
    "    # the uncertainpy framework expects an array of timestamps as the first return value.\n",
    "    # Since this Model is evaluated over angles and not time, we return None.\n",
    "    return None, I_m\n"
   ]
  },
  {
   "attachments": {},
   "cell_type": "markdown",
   "metadata": {},
   "source": [
    "This model has the LID of the source as an input parameter. The simulations will be performed using cosine distributions. For a power of one they describe a lambertian source. Higher powers of the cosine function are a good approximation for collimated light sources.\n",
    "\n",
    "We need a function that describes the LID of our source. It takes two arbitrary angles for theta and phi and returns the luminous intensity in that direction. The next cell creates such a function for a selectable power."
   ]
  },
  {
   "cell_type": "code",
   "execution_count": null,
   "metadata": {},
   "outputs": [],
   "source": [
    "def cosn_LID_generator(n):\n",
    "    def LID(theta,phi):\n",
    "        import numpy as np\n",
    "        intensity = 100 * np.power(np.cos(theta),n) + np.zeros_like(phi)\n",
    "        return intensity.clip(min=0)\n",
    "    return LID"
   ]
  },
  {
   "attachments": {},
   "cell_type": "markdown",
   "metadata": {},
   "source": [
    "Next, we will use the goniometer model to simulate a measurement of our source for a specific offset location. Comparable to a real measurement this is done for discrete directions. The next cell defines the angles that should be measured. They correspond to the angles $\\theta_c$ and $\\phi_c$.\n",
    "The Paramter theta_max is used to limit the measurement region. It is sensible to adjust this value depending on the LID of the source. If the source is collimated to a narrow cone (high n), it is unnecessary to simulate the outskirts of the LID, where the Luminous Intensity is effectively 0."
   ]
  },
  {
   "cell_type": "code",
   "execution_count": null,
   "metadata": {},
   "outputs": [],
   "source": [
    "import numpy as np\n",
    "theta_max=89\n",
    "theta_deg = np.linspace(start=0,stop=theta_max,num=theta_max+1)\n",
    "phi_deg = np.linspace(start=0,stop=360,num=37)[:-1]\n",
    "\n",
    "# convert to radians and add empty dimensions so that operations on phi and theta return a 2d array \n",
    "theta = np.deg2rad(theta_deg)[:,None]\n",
    "phi = np.deg2rad(phi_deg)[None,:]"
   ]
  },
  {
   "cell_type": "markdown",
   "metadata": {},
   "source": [
    "The source function is evaluated for these angles to get a ground truth, that the model output can be compared to later.\n",
    "Adjust n and rerun the following cells to evaluate differnt szenarios."
   ]
  },
  {
   "cell_type": "code",
   "execution_count": null,
   "metadata": {},
   "outputs": [],
   "source": [
    "# define the source function\n",
    "n = 10\n",
    "LID_source_function = cosn_LID_generator(n)\n",
    "LID_source = LID_source_function(theta, phi)"
   ]
  },
  {
   "cell_type": "code",
   "execution_count": null,
   "metadata": {},
   "outputs": [],
   "source": []
  },
  {
   "cell_type": "code",
   "execution_count": null,
   "metadata": {},
   "outputs": [],
   "source": [
    "# run model\n",
    "x_offset = 0.001 # relative measure\n",
    "y_offset = -0.002\n",
    "z_offset = 0.003\n",
    "LID_measurement = goniometer_model(x_offset, y_offset, z_offset, LID_source_function, theta, phi)[1]"
   ]
  },
  {
   "attachments": {},
   "cell_type": "markdown",
   "metadata": {},
   "source": [
    "The way the arrays theta and phi are defined results in a representation of the LID in \"half\" C-Planes. For every angle $\\phi$ there is a slice from  $\\theta=0° .. 90°$. For Visualization purposes it is preferrable to have a complete C-Plane: For every angle $\\phi$ the slice ranges from -90° .. 90°. The C-Planes are constructed by combining opposing half-Planes. For this to work the $\\phi$ angles need to line up. "
   ]
  },
  {
   "cell_type": "code",
   "execution_count": null,
   "metadata": {},
   "outputs": [],
   "source": [
    "# optional step: amplify the difference between the source and measurement LID to make it more visible\n",
    "amp_factor = 10\n",
    "LID_amplified = LID_source + amp_factor * (LID_measurement - LID_source)"
   ]
  },
  {
   "cell_type": "code",
   "execution_count": null,
   "metadata": {},
   "outputs": [],
   "source": [
    "from Helperfunctions import half2cplanes\n",
    "\n",
    "# convert both LIDs to c-plane format\n",
    "LID_source_cplane, theta_cplane, phi_cplane = half2cplanes(LID_source, theta, phi)\n",
    "LID_measurement_cplane = half2cplanes(LID_measurement,theta,phi)[0]\n",
    "LID_amplified_cplane = half2cplanes(LID_amplified, theta, phi)[0]"
   ]
  },
  {
   "attachments": {},
   "cell_type": "markdown",
   "metadata": {},
   "source": [
    "## Visualization\n",
    "\n",
    "Visualization can be done in many ways. Generally 3D, often represented as Slices of the LID-body. (C-Planes)\n",
    "LID is LI over angles: Can be represented in polar or carthesian coordinate systems. Polar is useful because it visualizes the shape of the LID. Cartesian axes allow for easy reding of numerical values.    \n",
    "If all the content that is plotted is rot. symmetrical: Polar and Cartesian Representation can be combined. The LID used here is already rot. sym. For this representation to make sense, the error also has to be rot. sym. therefore it is only applicable for situations with a z-offset.\n",
    "\n",
    "create_axes_LID returns 3 axes objects: cartesian and polar axes for the main plot and a second cartesian y-axis for information other than luminous intensity."
   ]
  },
  {
   "cell_type": "code",
   "execution_count": null,
   "metadata": {},
   "outputs": [],
   "source": [
    "import matplotlib.pyplot as plt\n",
    "from HalfplaneVisualization import HalfplaneVisu\n",
    "\n",
    "visu = HalfplaneVisu(theta_max=theta_max,theta_tick_dist=15,r_max = 125,r_min=-100)\n",
    "visu.show_fig(True, True)"
   ]
  },
  {
   "cell_type": "code",
   "execution_count": null,
   "metadata": {},
   "outputs": [],
   "source": [
    "# choose the c-plane to plot\n",
    "c = 0 \n",
    "\n",
    "visu.plot(theta_cplane, LID_source_cplane[c], label=r'$C_0$-Plane of the source LID', c='lightgreen')\n",
    "visu.plot(theta_cplane, LID_amplified_cplane[c], label=r'$C_0$-Plane of measured LID', c='red')\n",
    "\n",
    "visu.show_fig(cart=True, polar=False)"
   ]
  },
  {
   "cell_type": "markdown",
   "metadata": {},
   "source": [
    "Since it's hard to reason about the error from this plot, it is better to plot the actual Error. For this purpose one can use the auxilary axis on the right. the method aux_set_center(c) aligns the given value on the axis with the origin of the luminous intensity axis. By default it is centered at zero.\n",
    "\n",
    "* Error is plotted as Percent of: I0 or I"
   ]
  },
  {
   "cell_type": "code",
   "execution_count": null,
   "metadata": {},
   "outputs": [],
   "source": [
    "# calculate the relative error between luminous intensity of source and measurement in percent\n",
    "error_rel_prcnt = 100 * (LID_measurement - LID_source) / LID_source\n",
    "error_rel_prcnt_cplane = half2cplanes(error_rel_prcnt,theta,phi)[0]\n",
    "\n",
    "# calculate the absolute error as % of the luminous intensity along the optical axis\n",
    "error_abs_prcnt = 100 * (LID_measurement - LID_source) / LID_source[0,0]\n",
    "error_abs_prcnt_cplane = half2cplanes(error_abs_prcnt,theta,phi)[0]\n",
    "\n",
    "visu.plot_aux(theta_cplane, error_rel_prcnt_cplane[c], label=r'Relative Error', c='blue')\n",
    "visu.plot_aux(theta_cplane, error_abs_prcnt_cplane[c], label=r'Absolute Error / $I_0$', c='orange')\n",
    "visu.show_fig(cart=True, polar=False)"
   ]
  },
  {
   "attachments": {},
   "cell_type": "markdown",
   "metadata": {},
   "source": [
    "Now the plot is extended to make it interactive. For this purpose we define a function, that takes the user intput and recalcualtes the model and adjusts the visualization.\n",
    "The Offset of The Source is parametized, as well as its Cosine LID. Addidtionally the C-Plane to be shown can be selected. \n",
    "The function combines the the cells previously described."
   ]
  },
  {
   "cell_type": "code",
   "execution_count": null,
   "metadata": {},
   "outputs": [],
   "source": [
    "from IPython.display import display\n",
    "\n",
    "def update(x,y,z,c,n,amp,style):\n",
    "    # % to factor -> /100\n",
    "    x_offset, y_offset, z_offset = np.array((x,y,z)) / 100\n",
    "    # update the source LID\n",
    "    LID_source_function = cosn_LID_generator(n)\n",
    "    LID_source = LID_source_function(theta, phi)\n",
    "    LID_source_cplane, theta_cplane, phi_cplane = half2cplanes(LID_source, theta, phi)\n",
    "    # recalculate model\n",
    "    LID_measurement = goniometer_model(x_offset, y_offset, z_offset, LID_source_function, theta, phi)[1]\n",
    "    LID_amplified = LID_source + amp * (LID_measurement - LID_source)\n",
    "    LID_amplified_cplane = half2cplanes(LID_amplified, theta, phi)[0]\n",
    "    # recalculate error\n",
    "    error_rel_prcnt = 100 * (LID_measurement - LID_source) / LID_source\n",
    "    error_rel_prcnt_cplane = half2cplanes(error_rel_prcnt,theta,phi)[0]\n",
    "\n",
    "    error_abs_prcnt = 100 * (LID_measurement - LID_source) / LID_source[0,0]\n",
    "    error_abs_prcnt_cplane = half2cplanes(error_abs_prcnt,theta,phi)[0]\n",
    "    # plot / update the curves\n",
    "    visu.plot(theta_cplane, LID_source_cplane[c], label=r'$C_0$-Plane of the source LID', c='lightgreen')\n",
    "    visu.plot(theta_cplane, LID_amplified_cplane[c], c='red', label=r'$C_0$-Plane of measured LID')\n",
    "    visu.plot_aux(theta_cplane, error_rel_prcnt_cplane[c], label=r'Relative Error in %', c='blue')\n",
    "    visu.plot_aux(theta_cplane, error_abs_prcnt_cplane[c], label=r'Absolute Error as % of $I_0$', c='orange')\n",
    "\n",
    "    # display the result in the chosen coordinate system\n",
    "    cart = True if 'cart' in style.lower() else False\n",
    "    polar = True if 'polar' in style.lower() else False\n",
    "    visu.show_fig(cart=cart, polar=polar)"
   ]
  },
  {
   "cell_type": "markdown",
   "metadata": {},
   "source": [
    "The next cell defines the UI for parametrization. Its made up of Sliders, which are linked to the previously defined update function with the 'interactive_output' call."
   ]
  },
  {
   "cell_type": "code",
   "execution_count": null,
   "metadata": {},
   "outputs": [],
   "source": [
    "%matplotlib inline\n",
    "from ipywidgets import interactive_output, IntSlider, FloatSlider, SelectionSlider, ToggleButtons, HBox, VBox, Label, Output\n",
    "c_max = np.size(phi_cplane)-1 # maximum index for c-plane-array\n",
    "phi_deg_cplane = np.rint(np.rad2deg(phi_cplane.squeeze())).astype(int)\n",
    "x_slider = FloatSlider(min=-0.5, max=0.5, step=0.05, value=0.0, continuous_update=False)\n",
    "y_slider = FloatSlider(min=-0.5, max=0.5, step=0.05, value=0.0, continuous_update=False)\n",
    "z_slider = FloatSlider(min=-0.5, max=0.5, step=0.05, value=0.1, continuous_update=False)\n",
    "c_slider = IntSlider  (min= 0, max=c_max, continuous_update=False, readout=False )\n",
    "# Add an Output for the C-Plane Angle in Degrees\n",
    "c_angle_output = Label(\"{:03}°\".format(phi_deg_cplane[c_slider.value]))\n",
    "c_slider.observe(lambda val: setattr(c_angle_output, 'value', \"{:03}°\".format(phi_deg_cplane[c_slider.value])), names='value')\n",
    "n_slider = IntSlider  (min= 1, max=120, continuous_update=False)\n",
    "amp_slider = FloatSlider(min=1, max=100, step=1, value=1, continuous_update=False)\n",
    "visu_style_toggle = ToggleButtons(options=['Cartesian', 'Polar', 'Cartesian & Polar'],description='Axes Style:',)\n",
    "ui = VBox([HBox([Label('X-Offset as % of Measurement Distance'), x_slider]),\n",
    "           HBox([Label('Y-Offset as % of Measurement Distance'), y_slider]),\n",
    "           HBox([Label('Z-Offset as % of Measurement Distance'), z_slider]),\n",
    "           HBox([Label('Source LID Cosine Power'), n_slider]),\n",
    "           HBox([Label('C-Plane Index'), c_slider,c_angle_output]),\n",
    "           HBox([Label('Error Amplification'), amp_slider]),\n",
    "           visu_style_toggle])\n",
    "\n",
    "out = interactive_output(update, {'x': x_slider, 'y': y_slider, 'z': z_slider, 'c': c_slider, 'n': n_slider, 'amp': amp_slider, 'style':visu_style_toggle})\n",
    "display(ui, out)"
   ]
  },
  {
   "attachments": {},
   "cell_type": "markdown",
   "metadata": {},
   "source": [
    "## Evaluation of Influence of LC-Offset\n",
    "- With this model we can examine the influence of translated LC for different szenarios.\n",
    "- Translation has three components, one for every dimension.\n",
    "- Examine cos^n sources increasing n: more narrowly bundled LID\n",
    "    * good approximation for many sources\n",
    "    * (approximately) rotationally symmetric LID\n",
    "    * degrees of freedom of LC reduced: translation effectively has two components: along and orthogonal to the optical axis of the source\n",
    "    * Optical Axis is Z-Axis. Orthogonal to that is X-Y plane.  \n",
    "    * therefore: examine X-Y-Offset and Z-Offset separately\n",
    "### X-Y Offset\n",
    "- Normally an object with a roationally symetrical LID has the same symmetry in its cosntruction: e.g. a round opening / shape with a destinct center.\n",
    "- Object is oriented accordingly: attempt to align principal axis of goniometer with optical axis of source.\n",
    "- there are two reasons for X-Y Offset: \n",
    "    * Placement error, source not aligned\n",
    "    * deviations from rotational symmetry: in LID of light source and in optics\n",
    "- both of these influences are usually small.\n",
    "Example 1:\n",
    "Cos^1 Source, translated orthogonally by 1/1000.\n",
    "- This means: for a measurement distance of 1m it would be translated by 1mm\n",
    "- Cos^1: Lambertian characteristic.\n",
    "- Result is shown in the following illustrations:\n",
    "|![x_error](figures/graphs_rel_i0_r1_e0.001/x_error.PNG) | ![y_error](figures/graphs_rel_i0_r1_e0.001/y_error_wo_bar.PNG)|\n",
    "|-|-|\n",
    "\n",
    "3D-depiction of the original LID as a grid and the deviation resulting from the offset LC. Left Side: offset in X / right side offset in Y. Results in the same deformation, just rotated. To make the influence visible, the deviation is exaggerated by a factor of 100. The deformed LID is shaded according to the error in each direction relative to the luminous intensity along the optical axis (Hauptabstrahlrichtung).\n",
    "In this szenario the error doesn't exceed 0.2% in any direction.\n",
    "\n",
    "\n",
    "Same thing relative to each direction\n",
    "\n",
    "small error can be substantial, when the overall luminance is small\n",
    "\n",
    "### Z- Offset\n",
    "\n",
    "The Z-position of the LC is generally hard to estimate. Even given a rotational symmetry there is no indicator where the LC should be assumed along the optical axis.\n",
    "\n",
    "One assumption to make is that the LC is inside the housing. Does not have to be the case - e.g. highly focusing optics\n",
    "standard procedure is often to position the object with the (Austrittsfläche) at the origin\n",
    "that can result in a substantial offset of the LC along the z-axis\n",
    "again visualize deformation, at first with same translation distance, comparable to X/Y-deformation\n",
    "\n",
    "|![z_neg_error](figures/graphs_rel_i0_r1_e0.001/z_neg_error.PNG) | ![z_pos_error](figures/graphs_rel_i0_r1_e0.001/z_pos_error_wo_bar.PNG)|\n",
    "|-|-|\n",
    "\n",
    "- 100x, ...\n",
    "- Influence of gradient: $cos^n$-Sources: Cos^1, Cos^10, Cos^50, Cos^100\n"
   ]
  },
  {
   "attachments": {},
   "cell_type": "markdown",
   "metadata": {},
   "source": [
    "## Uncertainty\n",
    "For every measured direction it samples the illumincance caused by the source in a certain distance and derives from this the luminous intensity. Each of these measurements is individually afflicted with an uncertainty. The uncertainty is comprised of various contributions. They stem from the mechanical measurement setup, the sensor and are also effected by the object to be measured.\n",
    "It is an ongoing effort to better model the uncertainty of photogoniometric measurements. Currently most measurements lack an uncertainty evaluation entirely, which complicates a comparison of measurements.\n",
    "The uncertainty contribution of the sensor, either photometer or camera-based, can already be modelled. The same is true for the uncertainty contribution from the manipulator, that is positioning and orienting the source or detector. Since the location and orientation of the object placed on the goniometer is unknown, the uncertainty of the manipulator pose cannot be propagated to the source and its luminous intensity distribution and then further through the sensor system. This is a missing link in the uncertainty chain, that prevents a proper uncertainty evaluation. \n",
    "\n",
    "assign an uncertainty to this estimation:\n",
    "* express confidence in LC\n",
    "* also include confidence in the mounting accuracy.\n",
    "* different uncertainty for each axis.\n",
    "    * if object has prominent optical axis, with focusing optics: high uncertainty along optical axis, smaller uncertainty perpendicular\n",
    "    * LC modelled as 3 independent variables, each with its own distribution\n",
    "    * + formulas!\n",
    "    * e.g. uniform or gaussian, more complex models are also possible.\n",
    "\n",
    "- How can the uncertainty of the translation of the object be expressed?\n",
    "\n",
    "If the offset of the source would be known, it could be corrected before as well as after the measurement. The position of the object needs to be assigned with a sensible uncertainty, which expresses the confidence in the correct placement. The paper discusses ways of modelling this uncertainty by simple means. \n",
    "The aforementioned model of the goniometer is then used to propagate the uncertainty of the position to an uncertainty of the LID.\n",
    "+ model needs LID as input, not known for the object to be measured.\n",
    "+ Propose a tool to calculate the uncertainty of an LID measurement, that uses the measurement result as an estimation of the underlying LID.\n",
    "\n",
    "Give answers and derive guidelines that are applicable to far field measurements.\n",
    "  \n"
   ]
  },
  {
   "attachments": {},
   "cell_type": "markdown",
   "metadata": {},
   "source": [
    "## Uncertainty Analysis\n",
    "\n",
    "Now perform a uncertainty analysis with this model.\n",
    "First create Distributions for the uncertain input parameters: the source location"
   ]
  },
  {
   "cell_type": "code",
   "execution_count": null,
   "metadata": {},
   "outputs": [],
   "source": [
    "# the mc simulation is computationally too expensive for the whole coordinate space.\n",
    "# only simulate a reduced set of phi-angles\n",
    "phi_mc_deg = np.linspace(start=0,stop=360,num=5)[:-1]\n",
    "phi_mc = np.deg2rad(phi_mc_deg)[None,:]"
   ]
  },
  {
   "cell_type": "markdown",
   "metadata": {},
   "source": [
    "We now need distributions for x,y,z instead of fixed values.\n",
    "* Use Chaospy Package to define the distributions\n",
    "* cp.Uniform(lower limit, upper limit)\n",
    "* cp.Normal(mean, std deviation)"
   ]
  },
  {
   "cell_type": "code",
   "execution_count": null,
   "metadata": {},
   "outputs": [],
   "source": [
    "import chaospy as cp\n",
    "# create the distributions for the location of the source\n",
    "\n",
    "x_dist = cp.Uniform(-0.001, 0.001)\n",
    "y_dist = cp.Uniform(-0.001, 0.001)\n",
    "z_dist = cp.Uniform(-0.001, 0.001)"
   ]
  },
  {
   "cell_type": "code",
   "execution_count": null,
   "metadata": {},
   "outputs": [],
   "source": [
    "import uncertainpy as un\n",
    "import numpy as np\n",
    "from Helperfunctions import polar2cart, cart2polar\n",
    "# run a montecarlo uncertainty quantification\n",
    "if __name__ == '__main__':\n",
    "    model = un.Model(run=goniometer_model)\n",
    "    parameters = {\"x_s\": x_dist, \"y_s\": y_dist,\"z_s\": z_dist,\n",
    "                  \"LID\": LID_source_function, \"theta_c\": theta, \"phi_c\": phi_mc}\n",
    "    UQ = un.UncertaintyQuantification(model=model, parameters=parameters)\n",
    "    UQ.quantify(method='mc', plot=None, save=False, nr_mc_samples=2**10, CPUs=4)\n",
    "    UQ.data['goniometer_model'].pop('evaluations')"
   ]
  },
  {
   "cell_type": "code",
   "execution_count": null,
   "metadata": {},
   "outputs": [],
   "source": [
    "# save the result\n",
    "fname = 'mc_test'\n",
    "UQ.save(filename=fname, folder=\"test\")"
   ]
  },
  {
   "attachments": {},
   "cell_type": "markdown",
   "metadata": {},
   "source": [
    "Plotting the result of the Uncertainty analysis:\n",
    "Expanded Uncertainty: coverage factor k=2 -> 95% Confidence interval\n"
   ]
  },
  {
   "cell_type": "code",
   "execution_count": null,
   "metadata": {},
   "outputs": [],
   "source": [
    "results = UQ.data['goniometer_model']\n",
    "mean = np.array(results['mean'])\n",
    "std = np.sqrt(np.array(results['variance']))\n",
    "# enlarge the confidence region to make it visible\n",
    "amp = 10\n",
    "u_band_low = mean - 2 * std * amp\n",
    "u_band_high = mean + 2 * std * amp\n",
    "# restructure data to c-planes\n",
    "mean_cplanes, theta_cplane, phi_mc_cplane   = half2cplanes(mean,theta,phi_mc)\n",
    "u_band_low_cplanes   = half2cplanes(u_band_low,theta,phi_mc)[0]\n",
    "u_band_high_cplanes  = half2cplanes(u_band_high,theta,phi_mc)[0]\n"
   ]
  },
  {
   "cell_type": "code",
   "execution_count": null,
   "metadata": {},
   "outputs": [],
   "source": [
    "# visu for Monte Carlo Results\n",
    "\n",
    "visu_mc = HalfplaneVisu(theta_max=theta_max,theta_tick_dist=15,r_max = 125,r_min=-50)"
   ]
  },
  {
   "cell_type": "code",
   "execution_count": null,
   "metadata": {},
   "outputs": [],
   "source": [
    "c = 0\n",
    "\n",
    "visu_mc.plot(theta_cplane, mean_cplanes[c],label=r'$C_0$-Plane of the mean measured LID', color='blue')\n",
    "visu_mc.fill(theta_cplane,u_band_low_cplanes[c],u_band_high_cplanes[c], label='95% Interval', color='blue')\n",
    "visu_mc.show_fig(cart=True, polar=False)"
   ]
  },
  {
   "cell_type": "markdown",
   "metadata": {},
   "source": [
    "* Add Plot of absolute / Relative uncertainty\n",
    "* k = 2 -> multiplier for Standard Deviation "
   ]
  },
  {
   "cell_type": "code",
   "execution_count": null,
   "metadata": {},
   "outputs": [],
   "source": [
    "u2_rel_prcnt = std * 200 / mean\n",
    "u2_rel_prcnt_cplanes  = half2cplanes(u2_rel_prcnt,theta,phi_mc)[0]\n",
    "\n",
    "u2_abs_prcnt = std * 200 / mean[0,0]\n",
    "u2_abs_prcnt_cplanes  = half2cplanes(u2_abs_prcnt,theta,phi_mc)[0]\n",
    "\n",
    "visu_mc.plot_aux(theta_cplane, u2_rel_prcnt_cplanes[c],label=r'Relative Uncertainty in %', color='red')\n",
    "visu_mc.plot_aux(theta_cplane, u2_abs_prcnt_cplanes[c],label=r'Absolute Uncertainty as % of $I_0$', color='orange')\n",
    "visu_mc.aux_set_label('%')\n",
    "visu_mc.show_fig(cart=True, polar=False)"
   ]
  },
  {
   "cell_type": "markdown",
   "metadata": {},
   "source": [
    "This can again easily made interactive. The update function has similar parameters as before. The parameters x,y,z previously describing an offset now discribe a distribution. For simplicity the offset distribution is centered around zero. the parameters describe the spread expressed as two standard deviations. \n",
    "The value is again given as a % of measurement distance. \n",
    "\n",
    "In case the offset or the source LID is changed, the simulation has to run again, which is very slow. Displaying a different C-Plane is possible without resimulation. Because of this the update function can be called in two capacities: if all Parameters are provided it runs the simulation, updates the plot and displays it. If it is only called with the c-plane index, it it skips to plotting."
   ]
  },
  {
   "cell_type": "code",
   "execution_count": null,
   "metadata": {},
   "outputs": [],
   "source": [
    "def update_mc(c, amp, style, x=None, y=None, z=None, n=None):\n",
    "\n",
    "    if not None in (x,y,z,n): # all necessary simulation parameters were supplied\n",
    "        # percent to factor -> /100\n",
    "        # 95% to std -> /2\n",
    "        x_dist = cp.Normal(0, x/200)\n",
    "        y_dist = cp.Normal(0, y/200)\n",
    "        z_dist = cp.Normal(0, z/200)\n",
    "        # update the source LID\n",
    "        LID_source_function = cosn_LID_generator(n)\n",
    "        parameters = {\"x_s\": x_dist, \"y_s\": y_dist,\"z_s\": z_dist,\n",
    "                      \"LID\": LID_source_function, \"theta_c\": theta, \"phi_c\": phi_mc}\n",
    "        UQ.parameters = parameters\n",
    "        UQ.quantify(method='mc', plot=None, save=False, nr_mc_samples=2**10, CPUs=4)\n",
    "        UQ.data['goniometer_model'].pop('evaluations')\n",
    "\n",
    "    results = UQ.data['goniometer_model']\n",
    "    \n",
    "    mean = np.array(results['mean'])\n",
    "    mean_cplanes, theta_cplane, phi_mc_cplane   = half2cplanes(mean,theta,phi_mc)\n",
    "    visu_mc.plot(theta_cplane, mean_cplanes[c],label=r'$C_0$-Plane of the mean measured LID', color='blue')\n",
    "    \n",
    "    # calculate confidence region, amplification for better visibility\n",
    "    std = np.sqrt(np.array(results['variance']))\n",
    "    u_band_low = mean - 2 * std * amp\n",
    "    u_band_high = mean + 2 * std * amp\n",
    "    u_band_low_cplanes   = half2cplanes(u_band_low,theta,phi_mc)[0]\n",
    "    u_band_high_cplanes  = half2cplanes(u_band_high,theta,phi_mc)[0]\n",
    "    visu_mc.fill(theta_cplane,u_band_low_cplanes[c],u_band_high_cplanes[c], label='95% Interval', color='blue')\n",
    "    \n",
    "    # calculate uncertainty plots\n",
    "    u2_rel_prcnt = std * 200 / mean\n",
    "    u2_rel_prcnt_cplanes  = half2cplanes(u2_rel_prcnt,theta,phi_mc)[0]\n",
    "    \n",
    "    u2_abs_prcnt = std * 200 / mean[0,0]\n",
    "    u2_abs_prcnt_cplanes  = half2cplanes(u2_abs_prcnt,theta,phi_mc)[0]\n",
    "    \n",
    "    visu_mc.plot_aux(theta_cplane, u2_rel_prcnt_cplanes[c],label=r'Relative Uncertainty in %', color='red')\n",
    "    visu_mc.plot_aux(theta_cplane, u2_abs_prcnt_cplanes[c],label=r'Absolute Uncertainty as % of $I_0$', color='orange')\n",
    "\n",
    "    # display the result in the chosen coordinate system\n",
    "    cart = True if 'cart' in style.lower() else False\n",
    "    polar = True if 'polar' in style.lower() else False\n",
    "    visu_mc.show_fig(cart=cart, polar=polar)"
   ]
  },
  {
   "cell_type": "markdown",
   "metadata": {},
   "source": [
    "The Sliders remain the same.\n",
    "* Button to start simulation"
   ]
  },
  {
   "cell_type": "code",
   "execution_count": null,
   "metadata": {},
   "outputs": [],
   "source": [
    "%matplotlib inline\n",
    "from ipywidgets import Button, Output, fixed\n",
    "c_max = np.size(phi_mc_cplane)-1 # maximum index for c-plane-array\n",
    "x_slider = FloatSlider(min=0, max=2, step=0.05, value=0.2, continuous_update=False)\n",
    "y_slider = FloatSlider(min=0, max=2, step=0.05, value=0.2, continuous_update=False)\n",
    "z_slider = FloatSlider(min=0, max=2, step=0.05, value=0.2, continuous_update=False)\n",
    "c_slider = IntSlider  (min= 0, max=c_max, value=c, continuous_update=False)\n",
    "n_slider = IntSlider  (min= 1, max=120, value=n, continuous_update=False)\n",
    "amp_Slider = FloatSlider(min=1, max=10, step=0.1, value=amp, continuous_update=False)\n",
    "visu_style_toggle = ToggleButtons(options=['Cartesian', 'Polar', 'Cartesian & Polar'],description='Axes Style:',)\n",
    "run_button = Button(description=\"Run\")\n",
    "\n",
    "ui = VBox([HBox([Label('X-Direction one-sided expanded Uncertainty as % of Measurement Distance'), x_slider]),\n",
    "           HBox([Label('Y-Direction one-sided expanded Uncertainty as % of Measurement Distance'), y_slider]),\n",
    "           HBox([Label('Z-Direction one-sided expanded Uncertainty as % of Measurement Distance'), z_slider]),\n",
    "           HBox([Label('C-Plane Index'), c_slider]),\n",
    "           HBox([Label('Source LID Cosine Power'), n_slider]),\n",
    "           HBox([Label('Uncertainty Amplification'), amp_Slider]),\n",
    "           visu_style_toggle, run_button])\n",
    "\n",
    "out = interactive_output(update_mc, {'c': c_slider, 'amp': amp_Slider, 'style': visu_style_toggle}) \n",
    "def run_update(b):\n",
    "    out.clear_output()\n",
    "    with out:\n",
    "        update_mc(c=c_slider.value, amp=amp_Slider.value, style=visu_style_toggle.value,\n",
    "                  x = x_slider.value, y=y_slider.value, z=z_slider.value, n=n_slider.value )\n",
    "run_button.on_click(run_update)\n",
    "display(ui,out)"
   ]
  }
 ],
 "metadata": {
  "kernelspec": {
   "display_name": "Python 3 (ipykernel)",
   "language": "python",
   "name": "python3"
  },
  "language_info": {
   "codemirror_mode": {
    "name": "ipython",
    "version": 3
   },
   "file_extension": ".py",
   "mimetype": "text/x-python",
   "name": "python",
   "nbconvert_exporter": "python",
   "pygments_lexer": "ipython3",
   "version": "3.9.18"
  }
 },
 "nbformat": 4,
 "nbformat_minor": 4
}
